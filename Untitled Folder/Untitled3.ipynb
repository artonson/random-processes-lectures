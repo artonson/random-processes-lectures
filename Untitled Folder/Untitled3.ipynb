{
 "cells": [
  {
   "cell_type": "code",
   "execution_count": 39,
   "metadata": {},
   "outputs": [
    {
     "name": "stdout",
     "output_type": "stream",
     "text": [
      "Populating the interactive namespace from numpy and matplotlib\n"
     ]
    }
   ],
   "source": [
    "%pylab inline"
   ]
  },
  {
   "cell_type": "code",
   "execution_count": 40,
   "metadata": {
    "collapsed": true
   },
   "outputs": [],
   "source": [
    "def compute_bm_mean(timestamps):\n",
    "    return np.zeros_like(timestamps)\n",
    "\n",
    "def compute_bm_cov(timestamps):\n",
    "    n = len(timestamps)\n",
    "    R = np.zeros((n, n))\n",
    "    for i in range(n):\n",
    "        for j in range(n):\n",
    "            R[i, j] = min(timestamps[i], timestamps[j])\n",
    "    return R"
   ]
  },
  {
   "cell_type": "code",
   "execution_count": 44,
   "metadata": {
    "collapsed": true
   },
   "outputs": [],
   "source": [
    "timestamps = timestamps = np.linspace(1e-2, 10, 1000)\n",
    "\n",
    "cov_bm = compute_bm_cov(timestamps)\n",
    "mean_bm = compute_bm_mean(timestamps)\n",
    "\n",
    "pgf_with_pdflatex = {\n",
    "    \"text.usetex\": \"False\",\n",
    "    \"font.size\": \"12\"\n",
    "}\n",
    "matplotlib.rcParams.update(pgf_with_pdflatex)"
   ]
  },
  {
   "cell_type": "code",
   "execution_count": 45,
   "metadata": {},
   "outputs": [
    {
     "data": {
      "text/plain": [
       "[<matplotlib.lines.Line2D at 0x7f0b815807b8>]"
      ]
     },
     "execution_count": 45,
     "metadata": {},
     "output_type": "execute_result"
    },
    {
     "name": "stderr",
     "output_type": "stream",
     "text": [
      "/usr/lib/python3.6/site-packages/matplotlib/font_manager.py:1297: UserWarning: findfont: Font family ['serif'] not found. Falling back to DejaVu Sans\n",
      "  (prop.get_family(), self.defaultFamily[fontext]))\n"
     ]
    },
    {
     "data": {
      "image/png": "[encoded data removed]",
      "text/plain": [
       "<matplotlib.figure.Figure at 0x7f0b816290f0>"
      ]
     },
     "metadata": {},
     "output_type": "display_data"
    }
   ],
   "source": [
    "fig = figure(figsize=(10, 4))\n",
    "subplot(1, 2, 1)\n",
    "title(r'Матрица ковариаций')\n",
    "imshow(cov_bm, interpolation='nearest')\n",
    "subplot(1, 2, 2)\n",
    "title(r'Ковариационная функция $R(500, t)$')\n",
    "plot(timestamps, cov_bm[500, :])"
   ]
  },
  {
   "cell_type": "code",
   "execution_count": 11,
   "metadata": {
    "collapsed": true
   },
   "outputs": [],
   "source": [
    "fig.tight_layout()\n",
    "fig.savefig('wiener-process-covariation.png', format='png')"
   ]
  },
  {
   "cell_type": "code",
   "execution_count": null,
   "metadata": {
    "collapsed": true
   },
   "outputs": [],
   "source": []
  }
 ],
 "metadata": {
  "kernelspec": {
   "display_name": "Python 3",
   "language": "python",
   "name": "python3"
  },
  "language_info": {
   "codemirror_mode": {
    "name": "ipython",
    "version": 3
   },
   "file_extension": ".py",
   "mimetype": "text/x-python",
   "name": "python",
   "nbconvert_exporter": "python",
   "pygments_lexer": "ipython3",
   "version": "3.6.1"
  }
 },
 "nbformat": 4,
 "nbformat_minor": 2
}
