{
 "cells": [
  {
   "cell_type": "code",
   "execution_count": 248,
   "metadata": {
    "collapsed": true
   },
   "outputs": [],
   "source": [
    "import numpy as np\n",
    "import matplotlib\n",
    "import matplotlib.pyplot as plt"
   ]
  },
  {
   "cell_type": "code",
   "execution_count": 249,
   "metadata": {},
   "outputs": [],
   "source": [
    "T = 1000\n",
    "t = 0\n",
    "I = 0\n",
    "intensity = 0.02\n",
    "S = []\n",
    "\n",
    "U = np.random.uniform()\n",
    "t = t - np.log(U) / intensity\n",
    "while t < T:\n",
    "    I = I + 1\n",
    "    S.append(t)\n",
    "    U = np.random.uniform()\n",
    "    t = t - np.log(U) / intensity"
   ]
  },
  {
   "cell_type": "code",
   "execution_count": 250,
   "metadata": {},
   "outputs": [],
   "source": [
    "Nt = np.zeros(1000)\n",
    "max_n = 0\n",
    "for i in range(1000):\n",
    "    if max_n < len(S) and S[max_n] < i:\n",
    "        max_n += 1\n",
    "    Nt[i] = max_n"
   ]
  },
  {
   "cell_type": "code",
   "execution_count": 251,
   "metadata": {},
   "outputs": [],
   "source": [
    "pgf_with_pdflatex = {\n",
    "    \"text.usetex\": \"False\",\n",
    "    \"font.size\": \"12\",\n",
    "    \"font.family\": \"serif\"\n",
    "}\n",
    "matplotlib.rcParams.update(pgf_with_pdflatex)"
   ]
  },
  {
   "cell_type": "code",
   "execution_count": 252,
   "metadata": {},
   "outputs": [],
   "source": [
    "fig = plt.figure(1, figsize=(12.0, 4.0), frameon=False)\n",
    "fig.clf()\n",
    "fig.set_size_inches(12.0, 4.0)\n",
    "plt.plot(Nt)\n",
    "for s in S:\n",
    "    plt.axvline(s, 0, 10, color='r')\n",
    "plt.grid('on')\n",
    "axes = plt.gca()\n",
    "axes.set_xlim([0,1000])\n",
    "axes.set_ylim([0, 20])\n",
    "axes.set_yticks(range(0, 20, 2))\n",
    "plt.tight_layout()"
   ]
  },
  {
   "cell_type": "code",
   "execution_count": 253,
   "metadata": {},
   "outputs": [
    {
     "data": {
      "image/png": "[encoded data removed]",
      "text/plain": [
       "<matplotlib.figure.Figure at 0x7f703f794668>"
      ]
     },
     "metadata": {},
     "output_type": "display_data"
    }
   ],
   "source": [
    "plt.show()"
   ]
  },
  {
   "cell_type": "code",
   "execution_count": 246,
   "metadata": {},
   "outputs": [],
   "source": [
    "plt.savefig('homogenous-poisson.eps', format='eps')"
   ]
  },
  {
   "cell_type": "code",
   "execution_count": null,
   "metadata": {
    "collapsed": true
   },
   "outputs": [],
   "source": []
  }
 ],
 "metadata": {
  "kernelspec": {
   "display_name": "Python 3",
   "language": "python",
   "name": "python3"
  },
  "language_info": {
   "codemirror_mode": {
    "name": "ipython",
    "version": 3
   },
   "file_extension": ".py",
   "mimetype": "text/x-python",
   "name": "python",
   "nbconvert_exporter": "python",
   "pygments_lexer": "ipython3",
   "version": "3.6.1"
  }
 },
 "nbformat": 4,
 "nbformat_minor": 2
}
